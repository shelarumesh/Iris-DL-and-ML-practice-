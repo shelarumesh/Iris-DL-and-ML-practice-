{
 "cells": [
  {
   "cell_type": "markdown",
   "id": "973a50dd",
   "metadata": {},
   "source": [
    "# Practice Machine Learning and deep Learning"
   ]
  },
  {
   "cell_type": "code",
   "execution_count": 1,
   "id": "034f4189",
   "metadata": {},
   "outputs": [],
   "source": [
    "# Load library which are required \n",
    "import pandas as pd\n",
    "import numpy as np\n",
    "from sklearn.linear_model import Perceptron\n",
    "\n",
    "# load dataset iris data\n",
    "from sklearn.datasets import load_iris\n",
    "iris = load_iris()"
   ]
  },
  {
   "cell_type": "code",
   "execution_count": 2,
   "id": "baf487b7",
   "metadata": {},
   "outputs": [],
   "source": [
    "X = iris.data[:,(2,3)]     # only extracted petal length and width\n",
    "y = iris.target            # target output variable"
   ]
  },
  {
   "cell_type": "code",
   "execution_count": 3,
   "id": "b455def8",
   "metadata": {},
   "outputs": [
    {
     "data": {
      "text/plain": [
       "(array([[1.4, 0.2],\n",
       "        [1.4, 0.2],\n",
       "        [1.3, 0.2],\n",
       "        [1.5, 0.2],\n",
       "        [1.4, 0.2],\n",
       "        [1.7, 0.4],\n",
       "        [1.4, 0.3],\n",
       "        [1.5, 0.2],\n",
       "        [1.4, 0.2],\n",
       "        [1.5, 0.1],\n",
       "        [1.5, 0.2],\n",
       "        [1.6, 0.2],\n",
       "        [1.4, 0.1],\n",
       "        [1.1, 0.1],\n",
       "        [1.2, 0.2],\n",
       "        [1.5, 0.4],\n",
       "        [1.3, 0.4],\n",
       "        [1.4, 0.3],\n",
       "        [1.7, 0.3],\n",
       "        [1.5, 0.3],\n",
       "        [1.7, 0.2],\n",
       "        [1.5, 0.4],\n",
       "        [1. , 0.2],\n",
       "        [1.7, 0.5],\n",
       "        [1.9, 0.2],\n",
       "        [1.6, 0.2],\n",
       "        [1.6, 0.4],\n",
       "        [1.5, 0.2],\n",
       "        [1.4, 0.2],\n",
       "        [1.6, 0.2],\n",
       "        [1.6, 0.2],\n",
       "        [1.5, 0.4],\n",
       "        [1.5, 0.1],\n",
       "        [1.4, 0.2],\n",
       "        [1.5, 0.2],\n",
       "        [1.2, 0.2],\n",
       "        [1.3, 0.2],\n",
       "        [1.4, 0.1],\n",
       "        [1.3, 0.2],\n",
       "        [1.5, 0.2],\n",
       "        [1.3, 0.3],\n",
       "        [1.3, 0.3],\n",
       "        [1.3, 0.2],\n",
       "        [1.6, 0.6],\n",
       "        [1.9, 0.4],\n",
       "        [1.4, 0.3],\n",
       "        [1.6, 0.2],\n",
       "        [1.4, 0.2],\n",
       "        [1.5, 0.2],\n",
       "        [1.4, 0.2],\n",
       "        [4.7, 1.4],\n",
       "        [4.5, 1.5],\n",
       "        [4.9, 1.5],\n",
       "        [4. , 1.3],\n",
       "        [4.6, 1.5],\n",
       "        [4.5, 1.3],\n",
       "        [4.7, 1.6],\n",
       "        [3.3, 1. ],\n",
       "        [4.6, 1.3],\n",
       "        [3.9, 1.4],\n",
       "        [3.5, 1. ],\n",
       "        [4.2, 1.5],\n",
       "        [4. , 1. ],\n",
       "        [4.7, 1.4],\n",
       "        [3.6, 1.3],\n",
       "        [4.4, 1.4],\n",
       "        [4.5, 1.5],\n",
       "        [4.1, 1. ],\n",
       "        [4.5, 1.5],\n",
       "        [3.9, 1.1],\n",
       "        [4.8, 1.8],\n",
       "        [4. , 1.3],\n",
       "        [4.9, 1.5],\n",
       "        [4.7, 1.2],\n",
       "        [4.3, 1.3],\n",
       "        [4.4, 1.4],\n",
       "        [4.8, 1.4],\n",
       "        [5. , 1.7],\n",
       "        [4.5, 1.5],\n",
       "        [3.5, 1. ],\n",
       "        [3.8, 1.1],\n",
       "        [3.7, 1. ],\n",
       "        [3.9, 1.2],\n",
       "        [5.1, 1.6],\n",
       "        [4.5, 1.5],\n",
       "        [4.5, 1.6],\n",
       "        [4.7, 1.5],\n",
       "        [4.4, 1.3],\n",
       "        [4.1, 1.3],\n",
       "        [4. , 1.3],\n",
       "        [4.4, 1.2],\n",
       "        [4.6, 1.4],\n",
       "        [4. , 1.2],\n",
       "        [3.3, 1. ],\n",
       "        [4.2, 1.3],\n",
       "        [4.2, 1.2],\n",
       "        [4.2, 1.3],\n",
       "        [4.3, 1.3],\n",
       "        [3. , 1.1],\n",
       "        [4.1, 1.3],\n",
       "        [6. , 2.5],\n",
       "        [5.1, 1.9],\n",
       "        [5.9, 2.1],\n",
       "        [5.6, 1.8],\n",
       "        [5.8, 2.2],\n",
       "        [6.6, 2.1],\n",
       "        [4.5, 1.7],\n",
       "        [6.3, 1.8],\n",
       "        [5.8, 1.8],\n",
       "        [6.1, 2.5],\n",
       "        [5.1, 2. ],\n",
       "        [5.3, 1.9],\n",
       "        [5.5, 2.1],\n",
       "        [5. , 2. ],\n",
       "        [5.1, 2.4],\n",
       "        [5.3, 2.3],\n",
       "        [5.5, 1.8],\n",
       "        [6.7, 2.2],\n",
       "        [6.9, 2.3],\n",
       "        [5. , 1.5],\n",
       "        [5.7, 2.3],\n",
       "        [4.9, 2. ],\n",
       "        [6.7, 2. ],\n",
       "        [4.9, 1.8],\n",
       "        [5.7, 2.1],\n",
       "        [6. , 1.8],\n",
       "        [4.8, 1.8],\n",
       "        [4.9, 1.8],\n",
       "        [5.6, 2.1],\n",
       "        [5.8, 1.6],\n",
       "        [6.1, 1.9],\n",
       "        [6.4, 2. ],\n",
       "        [5.6, 2.2],\n",
       "        [5.1, 1.5],\n",
       "        [5.6, 1.4],\n",
       "        [6.1, 2.3],\n",
       "        [5.6, 2.4],\n",
       "        [5.5, 1.8],\n",
       "        [4.8, 1.8],\n",
       "        [5.4, 2.1],\n",
       "        [5.6, 2.4],\n",
       "        [5.1, 2.3],\n",
       "        [5.1, 1.9],\n",
       "        [5.9, 2.3],\n",
       "        [5.7, 2.5],\n",
       "        [5.2, 2.3],\n",
       "        [5. , 1.9],\n",
       "        [5.2, 2. ],\n",
       "        [5.4, 2.3],\n",
       "        [5.1, 1.8]]),\n",
       " array([0, 0, 0, 0, 0, 0, 0, 0, 0, 0, 0, 0, 0, 0, 0, 0, 0, 0, 0, 0, 0, 0,\n",
       "        0, 0, 0, 0, 0, 0, 0, 0, 0, 0, 0, 0, 0, 0, 0, 0, 0, 0, 0, 0, 0, 0,\n",
       "        0, 0, 0, 0, 0, 0, 1, 1, 1, 1, 1, 1, 1, 1, 1, 1, 1, 1, 1, 1, 1, 1,\n",
       "        1, 1, 1, 1, 1, 1, 1, 1, 1, 1, 1, 1, 1, 1, 1, 1, 1, 1, 1, 1, 1, 1,\n",
       "        1, 1, 1, 1, 1, 1, 1, 1, 1, 1, 1, 1, 2, 2, 2, 2, 2, 2, 2, 2, 2, 2,\n",
       "        2, 2, 2, 2, 2, 2, 2, 2, 2, 2, 2, 2, 2, 2, 2, 2, 2, 2, 2, 2, 2, 2,\n",
       "        2, 2, 2, 2, 2, 2, 2, 2, 2, 2, 2, 2, 2, 2, 2, 2, 2, 2]))"
      ]
     },
     "execution_count": 3,
     "metadata": {},
     "output_type": "execute_result"
    }
   ],
   "source": [
    "# Actual dataset \n",
    "X,y"
   ]
  },
  {
   "cell_type": "markdown",
   "id": "e52098f7",
   "metadata": {},
   "source": [
    "# Solve and calculated accuracy with ANN perceptron model"
   ]
  },
  {
   "cell_type": "code",
   "execution_count": 9,
   "id": "bae1726b",
   "metadata": {},
   "outputs": [
    {
     "name": "stdout",
     "output_type": "stream",
     "text": [
      "====================================================================================================\n",
      "[0 0 0 0 0 0 0 0 0 0 0 0 0 0 0 0 0 0 0 0 0 0 0 0 0 0 0 0 0 0 0 0 0 0 0 0 0\n",
      " 0 0 0 0 0 0 0 0 0 0 0 0 0 1 1 1 1 1 1 1 1 1 1 1 1 1 1 0 1 1 1 1 1 2 1 1 1\n",
      " 1 1 1 1 1 1 1 1 1 2 1 0 1 1 1 1 1 1 1 1 1 1 1 1 1 1 2 2 2 2 2 2 2 2 2 2 2\n",
      " 2 2 2 2 2 2 2 2 1 2 2 2 1 2 1 1 2 2 1 1 1 2 1 2 2 2 2 2 2 2 2 2 2 2 2 2 2\n",
      " 2 2]\n",
      "====================================================================================================\n",
      "Accuracy :  0.92\n",
      "====================================================================================================\n",
      "Coeficienct :  [[  2.295   6.695  -9.495  -4.795]\n",
      " [ 13.02  -36.12   11.32  -29.42 ]\n",
      " [-41.36  -37.26   57.86   56.96 ]]\n",
      "====================================================================================================\n",
      "Intercept :  [  1.  18. -26.]\n"
     ]
    }
   ],
   "source": [
    "per_clf = Perceptron(random_state=42, penalty='l1')\n",
    "per_clf.fit(X,y)\n",
    "ypred = per_clf.predict(X)\n",
    "print('='*100)\n",
    "print(ypred)\n",
    "print('='*100)\n",
    "from sklearn.metrics import accuracy_score\n",
    "print('Accuracy : ',accuracy_score(y, ypred))\n",
    "print('='*100)\n",
    "print(\"Coeficienct : \",per_clf.coef_ )\n",
    "print('='*100)\n",
    "print('Intercept : ' , per_clf.intercept_)"
   ]
  },
  {
   "cell_type": "code",
   "execution_count": 5,
   "id": "b11ed2d4",
   "metadata": {},
   "outputs": [
    {
     "name": "stdout",
     "output_type": "stream",
     "text": [
      "====================================================================================================\n",
      "[0 1 0 0 0 0 0 0 1 1 0 0 1 0 0 0 0 0 0 0 1 0 0 0 0 1 0 0 0 0 1 0 0 0 1 0 0\n",
      " 0 0 0 0 1 0 0 0 1 0 0 0 0 1 1 1 1 1 1 1 1 1 1 1 1 1 1 1 1 1 1 1 1 1 1 1 1\n",
      " 1 1 1 1 1 1 1 1 1 1 1 1 1 1 1 1 1 1 1 1 1 1 1 1 1 1 2 1 1 1 1 1 1 1 1 1 1\n",
      " 1 1 1 2 1 1 1 1 1 1 1 1 1 1 1 1 1 1 1 1 1 1 1 1 1 1 1 1 1 1 1 1 1 1 1 1 1\n",
      " 1 1]\n",
      "====================================================================================================\n",
      "Accuracy :  0.6133333333333333\n",
      "====================================================================================================\n",
      "Coeficienct :  [[  2.4   6.8  -9.6  -4.9]\n",
      " [ 22.1 -42.2  13.5 -44.5]\n",
      " [-42.  -33.8  48.9  51.8]]\n",
      "====================================================================================================\n",
      "Intercept :  [  1.  34. -22.]\n"
     ]
    }
   ],
   "source": [
    "X = iris.data[:,:]\n",
    "\n",
    "per_clf = Perceptron(random_state=42)\n",
    "per_clf.fit(X,y)\n",
    "ypred = per_clf.predict(X)\n",
    "print('='*100)\n",
    "print(ypred)\n",
    "print('='*100)\n",
    "from sklearn.metrics import accuracy_score\n",
    "print('Accuracy : ',accuracy_score(y, ypred))\n",
    "print('='*100)\n",
    "print(\"Coeficienct : \",per_clf.coef_ )\n",
    "print('='*100)\n",
    "print('Intercept : ' , per_clf.intercept_)"
   ]
  },
  {
   "cell_type": "markdown",
   "id": "33ea2e4d",
   "metadata": {},
   "source": [
    "# Machine Leaning\n",
    "Logistic regression becouse of classification problem"
   ]
  },
  {
   "cell_type": "code",
   "execution_count": 13,
   "id": "b21ff5f8",
   "metadata": {},
   "outputs": [
    {
     "name": "stdout",
     "output_type": "stream",
     "text": [
      "Accuracy :  0.92\n",
      "====================================================================================================\n",
      "Coeficienct :  [[  2.295   6.695  -9.495  -4.795]\n",
      " [ 13.02  -36.12   11.32  -29.42 ]\n",
      " [-41.36  -37.26   57.86   56.96 ]]\n",
      "====================================================================================================\n",
      "Intercept :  [  1.  18. -26.]\n"
     ]
    },
    {
     "name": "stderr",
     "output_type": "stream",
     "text": [
      "C:\\ProgramData\\anaconda3\\lib\\site-packages\\sklearn\\linear_model\\_logistic.py:458: ConvergenceWarning: lbfgs failed to converge (status=1):\n",
      "STOP: TOTAL NO. of ITERATIONS REACHED LIMIT.\n",
      "\n",
      "Increase the number of iterations (max_iter) or scale the data as shown in:\n",
      "    https://scikit-learn.org/stable/modules/preprocessing.html\n",
      "Please also refer to the documentation for alternative solver options:\n",
      "    https://scikit-learn.org/stable/modules/linear_model.html#logistic-regression\n",
      "  n_iter_i = _check_optimize_result(\n"
     ]
    }
   ],
   "source": [
    "from sklearn.linear_model import LogisticRegression\n",
    "model = LogisticRegression()\n",
    "model.fit(X,y)\n",
    "model.predict(X)\n",
    "print('Accuracy : ',accuracy_score(y, ypred))\n",
    "print('='*100)\n",
    "print(\"Coeficienct : \",per_clf.coef_ )\n",
    "print('='*100)\n",
    "print('Intercept : ' , per_clf.intercept_)"
   ]
  },
  {
   "cell_type": "code",
   "execution_count": null,
   "id": "d47651c7",
   "metadata": {},
   "outputs": [],
   "source": []
  },
  {
   "cell_type": "code",
   "execution_count": null,
   "id": "4bcf1da5",
   "metadata": {},
   "outputs": [],
   "source": []
  }
 ],
 "metadata": {
  "kernelspec": {
   "display_name": "Python 3 (ipykernel)",
   "language": "python",
   "name": "python3"
  },
  "language_info": {
   "codemirror_mode": {
    "name": "ipython",
    "version": 3
   },
   "file_extension": ".py",
   "mimetype": "text/x-python",
   "name": "python",
   "nbconvert_exporter": "python",
   "pygments_lexer": "ipython3",
   "version": "3.10.9"
  }
 },
 "nbformat": 4,
 "nbformat_minor": 5
}
